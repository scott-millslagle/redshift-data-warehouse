{
 "cells": [
  {
   "cell_type": "markdown",
   "metadata": {
    "editable": true
   },
   "source": [
    "# Infrustructure as Code"
   ]
  },
  {
   "cell_type": "markdown",
   "metadata": {
    "editable": true
   },
   "source": [
    "### Import libraries"
   ]
  },
  {
   "cell_type": "code",
   "execution_count": null,
   "metadata": {
    "editable": true
   },
   "outputs": [],
   "source": [
    "import boto3\n",
    "import configparser\n",
    "from botocore.exceptions import ClientError\n",
    "import json\n",
    "import psycopg2\n",
    "%load_ext sql"
   ]
  },
  {
   "cell_type": "markdown",
   "metadata": {
    "editable": true
   },
   "source": [
    "### Read in configuration file and assign config data to variables"
   ]
  },
  {
   "cell_type": "code",
   "execution_count": null,
   "metadata": {
    "editable": true
   },
   "outputs": [],
   "source": [
    "config = configparser.ConfigParser()\n",
    "config.read_file(open('dwh.cfg'))\n",
    "\n",
    "key = config.get('AWS','key')\n",
    "secret = config.get('AWS','secret')\n",
    "\n",
    "cluster_identifier = config.get('REDSHIFT','cluster_identifier')\n",
    "cluster_type = config.get('REDSHIFT','cluster_type')\n",
    "node_type = config.get('REDSHIFT','node_type')\n",
    "database_name = config.get('REDSHIFT','db_name')\n",
    "username = config.get('REDSHIFT','username')\n",
    "password = config.get('REDSHIFT','password')\n",
    "port = config.get('REDSHIFT','port')\n",
    "\n",
    "role_name = config.get('IAM', 'role_name')\n",
    "policy_name = config.get('IAM', 'policy_name')"
   ]
  },
  {
   "cell_type": "markdown",
   "metadata": {
    "editable": true
   },
   "source": [
    "### Create an IAM client"
   ]
  },
  {
   "cell_type": "code",
   "execution_count": null,
   "metadata": {
    "editable": true
   },
   "outputs": [],
   "source": [
    "iam = boto3.client('iam',aws_access_key_id=key,\n",
    "                     aws_secret_access_key=secret,\n",
    "                     region_name='us-east-1'\n",
    "                  )"
   ]
  },
  {
   "cell_type": "markdown",
   "metadata": {
    "editable": true
   },
   "source": [
    "### Create a role to attach to IAM "
   ]
  },
  {
   "cell_type": "code",
   "execution_count": null,
   "metadata": {
    "editable": true
   },
   "outputs": [],
   "source": [
    "try:\n",
    "    warehouse_role = iam.create_role(\n",
    "        RoleName = role_name,\n",
    "        Description = 'Allows Redshift cluster to call AWS services on behalf of the user',\n",
    "        AssumeRolePolicyDocument = json.dumps(\n",
    "            {\n",
    "                'Statement': [\n",
    "                    {\n",
    "                        'Action': 'sts:AssumeRole',\n",
    "                        'Effect': 'Allow',\n",
    "                        'Principal': {\n",
    "                            'Service': 'redshift.amazonaws.com'\n",
    "                        }\n",
    "                     }\n",
    "                ],\n",
    "                'Version': '2012-10-17'\n",
    "            }\n",
    "        )\n",
    "    )\n",
    "    print(f\"Role named '{role_name}' has been created.\")\n",
    "\n",
    "except Exception as e:\n",
    "    print(str(e))    "
   ]
  },
  {
   "cell_type": "markdown",
   "metadata": {
    "editable": true
   },
   "source": [
    "### Attach s3 access policy to IAM Role"
   ]
  },
  {
   "cell_type": "code",
   "execution_count": null,
   "metadata": {
    "editable": true
   },
   "outputs": [],
   "source": [
    "try:\n",
    "    iam.attach_role_policy(\n",
    "        RoleName=role_name,\n",
    "        PolicyArn='arn:aws:iam::aws:policy/AmazonS3ReadOnlyAccess'\n",
    "    )['ResponseMetadata']['HTTPStatusCode']   \n",
    "except Exception as e:\n",
    "    print(str(e))"
   ]
  },
  {
   "cell_type": "markdown",
   "metadata": {
    "editable": true
   },
   "source": [
    "### Extract ARN from IAM Role"
   ]
  },
  {
   "cell_type": "code",
   "execution_count": null,
   "metadata": {
    "editable": true,
    "scrolled": true
   },
   "outputs": [],
   "source": [
    "role_arn = iam.get_role(\n",
    "    RoleName = role_name\n",
    ")['Role']['Arn']\n",
    "\n",
    "print(f\"Role {role_name}'s ARN is: {role_arn}.\")"
   ]
  },
  {
   "cell_type": "markdown",
   "metadata": {
    "editable": true
   },
   "source": [
    "## Redshift"
   ]
  },
  {
   "cell_type": "markdown",
   "metadata": {
    "editable": true
   },
   "source": [
    "### Create a Redshift client "
   ]
  },
  {
   "cell_type": "code",
   "execution_count": null,
   "metadata": {
    "editable": true
   },
   "outputs": [],
   "source": [
    "redshift = boto3.client('redshift',\n",
    "                       region_name='us-east-1',\n",
    "                       aws_access_key_id=key,\n",
    "                       aws_secret_access_key=secret\n",
    "                       )"
   ]
  },
  {
   "cell_type": "markdown",
   "metadata": {
    "editable": true
   },
   "source": [
    "### Check to see if a cluster already exists, delete if true"
   ]
  },
  {
   "cell_type": "code",
   "execution_count": null,
   "metadata": {
    "editable": true
   },
   "outputs": [],
   "source": [
    "try:\n",
    "    redshift.delete_cluster(\n",
    "        ClusterIdentifier = cluster_identifier,\n",
    "        SkipFinalClusterSnapshot = True,\n",
    "    )\n",
    "\n",
    "    print(f\"The cluster '{cluster_identifier}' already exists.\")\n",
    "    print(f\"Deleting '{cluster_identifier}'...\")\n",
    "    \n",
    "    # Create a waiter object that will check to see if cluster has been deleted if it exists \n",
    "    # Checks every 20 seconds, 30 tries if needed\n",
    "    redshift_waiter = redshift.get_waiter('cluster_deleted')\n",
    "    redshift_waiter.wait(\n",
    "        ClusterIdentifier = cluster_identifier,\n",
    "        WaiterConfig={\n",
    "            'Delay': 20,\n",
    "            'MaxAttempts':20\n",
    "        }\n",
    "    )\n",
    "    print(f\"{cluster_identifier} was successfully deleted.\")\n",
    "    \n",
    "except:\n",
    "    print(f\"There are no clusters called {cluster_identifier}.\")\n",
    "    "
   ]
  },
  {
   "cell_type": "markdown",
   "metadata": {
    "editable": true
   },
   "source": [
    "### Create a new cluster"
   ]
  },
  {
   "cell_type": "code",
   "execution_count": null,
   "metadata": {
    "editable": true,
    "scrolled": true
   },
   "outputs": [],
   "source": [
    "try:\n",
    "    cluster = redshift.create_cluster(\n",
    "        DBName=database_name,\n",
    "        ClusterIdentifier=cluster_identifier,\n",
    "        ClusterType=cluster_type,\n",
    "        NodeType=node_type,\n",
    "        MasterUsername=username,\n",
    "        MasterUserPassword=password,\n",
    "        Port=int(port),\n",
    "        IamRoles=[role_arn]\n",
    "    )\n",
    "\n",
    "    print(f\"Creating a new cluster called {cluster_identifier}.\")\n",
    "    \n",
    "    # Create a waiter object that will check to see if cluster is available\n",
    "    # Checks every 20 seconds, 30 tries if needed\n",
    "    waiter = redshift.get_waiter('cluster_available')\n",
    "    waiter.wait(\n",
    "        ClusterIdentifier=cluster_identifier,\n",
    "        WaiterConfig={\n",
    "                'Delay': 20,\n",
    "                'MaxAttempts':20\n",
    "            }\n",
    "    )\n",
    "\n",
    "    print(f\"{cluster_identifier} is up and running.\")\n",
    "\n",
    "except Exception as e:\n",
    "    print(str(e)) "
   ]
  },
  {
   "cell_type": "markdown",
   "metadata": {
    "editable": true
   },
   "source": [
    "### Get cluster endpoint and vpc security group"
   ]
  },
  {
   "cell_type": "code",
   "execution_count": null,
   "metadata": {
    "editable": true,
    "scrolled": true
   },
   "outputs": [],
   "source": [
    "clusters = redshift.describe_clusters(\n",
    "    ClusterIdentifier=cluster_identifier\n",
    ")['Clusters']\n",
    "        \n",
    "cluster_endpoint = clusters[0]['Endpoint']['Address']\n",
    "vpc_security_group_id = clusters[0][\"VpcSecurityGroups\"][0]['VpcSecurityGroupId']\n",
    "\n",
    "print(f\"The endpoint for {cluster_identifier} is {cluster_endpoint}.\")\n",
    "print(f\"The VPC security group ID for '{vpc_security_group_id}' is '{cluster_identifier}'.\")"
   ]
  },
  {
   "cell_type": "markdown",
   "metadata": {
    "editable": true
   },
   "source": [
    "## EC2"
   ]
  },
  {
   "cell_type": "markdown",
   "metadata": {
    "editable": true
   },
   "source": [
    "### Create an ec2 instance"
   ]
  },
  {
   "cell_type": "code",
   "execution_count": null,
   "metadata": {
    "editable": true,
    "scrolled": true
   },
   "outputs": [],
   "source": [
    "try:\n",
    "    ec2 = boto3.resource('ec2',\n",
    "                         region_name='us-east-1',\n",
    "                         aws_access_key_id=key,\n",
    "                         aws_secret_access_key=secret\n",
    "    )\n",
    "\n",
    "    ec2_security_group = ec2.SecurityGroup(vpc_security_group_id)\n",
    "\n",
    "    ec2_security_group.authorize_ingress(\n",
    "        GroupName = ec2_security_group.group_name,\n",
    "        CidrIp='0.0.0.0/0',\n",
    "        IpProtocol='TCP',\n",
    "        FromPort=int(port),\n",
    "        ToPort=int(port)\n",
    "    )\n",
    "except Exception as e:\n",
    "    print(e)"
   ]
  },
  {
   "cell_type": "markdown",
   "metadata": {
    "editable": true
   },
   "source": [
    "## Create a connection to the database and test"
   ]
  },
  {
   "cell_type": "code",
   "execution_count": null,
   "metadata": {
    "editable": true
   },
   "outputs": [],
   "source": [
    "conn_string = f\"postgresql://{username}:{password}@{cluster_endpoint}:{port}/{database_name}\"\n",
    "\n",
    "print(conn_string)\n",
    "\n",
    "%sql $conn_string"
   ]
  },
  {
   "cell_type": "markdown",
   "metadata": {
    "editable": true
   },
   "source": [
    "## Delete Redshift cluster"
   ]
  },
  {
   "cell_type": "code",
   "execution_count": null,
   "metadata": {
    "editable": true
   },
   "outputs": [],
   "source": [
    "try:\n",
    "    redshift.delete_cluster(\n",
    "        ClusterIdentifier = cluster_identifier,\n",
    "        SkipFinalClusterSnapshot = True,\n",
    "    )\n",
    "    \n",
    "    print(f\"Now deleting {cluster_identifier}...\")\n",
    "    \n",
    "    # Create a waiter object that will check to see if cluster has been deleted\n",
    "    # Checks every 20 seconds, 30 tries if needed\n",
    "    delete_waiter = redshift.get_waiter('cluster_deleted')\n",
    "    delete_waiter.wait(\n",
    "        ClusterIdentifier=cluster_identifier,\n",
    "        WaiterConfig={\n",
    "            'Delay': 20,\n",
    "            'MaxAttempts':30\n",
    "        }\n",
    "    )\n",
    "    \n",
    "    print(f\"{cluster_identifier} has been deleted.\")\n",
    "    \n",
    "except :\n",
    "    print(f\"{cluster_identifier} does not exist.\")    "
   ]
  },
  {
   "cell_type": "markdown",
   "metadata": {
    "editable": true
   },
   "source": [
    "## Detach S3 policy from IAM role "
   ]
  },
  {
   "cell_type": "code",
   "execution_count": null,
   "metadata": {
    "editable": true
   },
   "outputs": [],
   "source": [
    "try:\n",
    "    iam.detach_role_policy(RoleName=role_name, PolicyArn=\"arn:aws:iam::aws:policy/AmazonS3ReadOnlyAccess\")\n",
    "    iam.delete_role(RoleName=role_name)\n",
    "except :\n",
    "    print(f\"{role_name} does not exist.\") "
   ]
  },
  {
   "cell_type": "code",
   "execution_count": null,
   "metadata": {
    "editable": true
   },
   "outputs": [],
   "source": []
  }
 ],
 "metadata": {
  "kernelspec": {
   "display_name": "Python 3",
   "language": "python",
   "name": "python3"
  },
  "language_info": {
   "codemirror_mode": {
    "name": "ipython",
    "version": 3
   },
   "file_extension": ".py",
   "mimetype": "text/x-python",
   "name": "python",
   "nbconvert_exporter": "python",
   "pygments_lexer": "ipython3",
   "version": "3.6.3"
  }
 },
 "nbformat": 4,
 "nbformat_minor": 4
}
